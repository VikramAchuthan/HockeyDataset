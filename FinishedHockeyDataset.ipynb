{
  "nbformat": 4,
  "nbformat_minor": 0,
  "metadata": {
    "colab": {
      "name": "FinishedHockeyDataset.ipynb",
      "provenance": [],
      "collapsed_sections": [],
      "authorship_tag": "ABX9TyMR35pOP6aLkin46wl7Ojf+",
      "include_colab_link": true
    },
    "kernelspec": {
      "name": "python3",
      "display_name": "Python 3"
    }
  },
  "cells": [
    {
      "cell_type": "markdown",
      "metadata": {
        "id": "view-in-github",
        "colab_type": "text"
      },
      "source": [
        "<a href=\"https://colab.research.google.com/github/VikramAchuthan/HockeyDataset/blob/master/FinishedHockeyDataset.ipynb\" target=\"_parent\"><img src=\"https://colab.research.google.com/assets/colab-badge.svg\" alt=\"Open In Colab\"/></a>"
      ]
    },
    {
      "cell_type": "markdown",
      "metadata": {
        "id": "eviu_6TbRizY",
        "colab_type": "text"
      },
      "source": [
        "Import initial libraries"
      ]
    },
    {
      "cell_type": "code",
      "metadata": {
        "id": "EbEV6_qmSNhl",
        "colab_type": "code",
        "colab": {}
      },
      "source": [
        "from google.colab import auth\n",
        "auth.authenticate_user()\n",
        "import gspread\n",
        "from oauth2client.client import GoogleCredentials\n",
        "gc = gspread.authorize(GoogleCredentials.get_application_default())\n",
        "import pandas as pd\n",
        "import numpy as np"
      ],
      "execution_count": 11,
      "outputs": []
    },
    {
      "cell_type": "markdown",
      "metadata": {
        "id": "MTw70AUxQ163",
        "colab_type": "text"
      },
      "source": [
        "Retrieve data of all D1 and D2 NCAA women's hockey colleges from separate google sheet spreadsheet\n"
      ]
    },
    {
      "cell_type": "code",
      "metadata": {
        "id": "ic_1OxtaSUpH",
        "colab_type": "code",
        "colab": {}
      },
      "source": [
        "wb = gc.open_by_url('https://docs.google.com/spreadsheets/d/1Th01ggWcHbjQGE6HBYstuiGHbO4JTcq8FnbKgL5PzXc/edit#gid=0')\n",
        "\n",
        "collegesSheet = wb.worksheet('NCAA D1 and D2 Schools')\n",
        "\n",
        "collegesData = collegesSheet.get_all_values()\n",
        "print(collegesData)"
      ],
      "execution_count": null,
      "outputs": []
    },
    {
      "cell_type": "markdown",
      "metadata": {
        "id": "Ar-zT72oR0v2",
        "colab_type": "text"
      },
      "source": [
        "Store colleges in panda dataframe\n"
      ]
    },
    {
      "cell_type": "code",
      "metadata": {
        "id": "y8Xlyoc1UQIW",
        "colab_type": "code",
        "colab": {}
      },
      "source": [
        "\n",
        "collegeDF = pd.DataFrame(collegesData)\n",
        "collegeDF.columns = collegeDF.iloc[0]\n",
        "collegeDF = collegeDF.iloc[1:]\n",
        "\n",
        "collegeDF.head(40)\n",
        "print(collegeDF.columns)"
      ],
      "execution_count": null,
      "outputs": []
    },
    {
      "cell_type": "markdown",
      "metadata": {
        "id": "aYerXoqtR4Wu",
        "colab_type": "text"
      },
      "source": [
        "Scrape data of all players who committed to schools to play Women's Ice Hockey from collegecommitments.com.\n",
        "\n",
        "*Note: Collegecommitments.com does not host requisite data currently, so this is not required. *`"
      ]
    },
    {
      "cell_type": "code",
      "metadata": {
        "id": "0oNihJ4CiK9J",
        "colab_type": "code",
        "colab": {}
      },
      "source": [
        "\n",
        "\n",
        "\n",
        "import requests\n",
        "import lxml.html as lh\n",
        "#website with data\n",
        "url='https://collegecommitments.com/CommitList.aspx?x7cq9=FEMALE'\n",
        "#Create a handle, page, to handle the contents of the website\n",
        "page = requests.get(url)\n",
        "#Store the contents of the website under doc\n",
        "doc = lh.fromstring(page.content)\n",
        "#Parse data that are stored between <tr>..</tr> of HTML\n",
        "tr_elements = doc.xpath('//tr')\n",
        "\n",
        "\n",
        "tr_elements_new = tr_elements[5:]\n",
        "\n"
      ],
      "execution_count": null,
      "outputs": []
    },
    {
      "cell_type": "code",
      "metadata": {
        "id": "SkT6zKh65ytb",
        "colab_type": "code",
        "colab": {}
      },
      "source": [
        "col=[]\n",
        "i=0\n",
        "tableHead = ['Date','Player Name', 'Pos.','College','Current Team', 'Starting Year']\n",
        "\n",
        "#For each row, store each first element (header) and an empty list\n",
        "for x in range(0,6):\n",
        "    i+=1\n",
        "    name=tableHead[x]\n",
        "    print('%d:\"%s\"'%(i,name))\n",
        "    col.append((name,[]))\n",
        "\n",
        "for j in range(1,len(tr_elements_new)):\n",
        "    #T is our j'th row\n",
        "    T=tr_elements_new[j]\n",
        "    \n",
        "    #If row is not of size 10, the //tr data is not from our table \n",
        "    if len(T)!=6:\n",
        "        break\n",
        "    \n",
        "    #i is the index of our column\n",
        "    i=0\n",
        "    \n",
        "    #Iterate through each element of the row\n",
        "    for t in T.iterchildren():\n",
        "        data=t.text_content() \n",
        "        #Check if row is empty\n",
        "        if i>0:\n",
        "        #Convert any numerical value to integers\n",
        "            try:\n",
        "                data=int(data)\n",
        "            except:\n",
        "                pass\n",
        "        #Append the data to the empty list of the i'th column\n",
        "        col[i][1].append(data)\n",
        "        #Increment i for the next column\n",
        "        i+=1\n",
        "\n",
        "#create panda dataframe of all players who committed \n",
        "playerDataDict={title:column for (title,column) in col}\n",
        "playerDataDF=pd.DataFrame(playerDataDict)\n",
        "playerDataDF.head(950)\n"
      ],
      "execution_count": null,
      "outputs": []
    },
    {
      "cell_type": "markdown",
      "metadata": {
        "id": "woseiBiwSQeu",
        "colab_type": "text"
      },
      "source": [
        "Scrape prerecorded data from google spreadsheet"
      ]
    },
    {
      "cell_type": "code",
      "metadata": {
        "id": "9JZgRgDuN7hf",
        "colab_type": "code",
        "colab": {}
      },
      "source": [
        "playerSheet = wb.worksheet('Players Information')\n",
        "\n",
        "playerData = playerSheet.get_all_values()\n",
        "\n",
        "playerDataDF = pd.DataFrame(playerData)\n",
        "playerDataDF.columns = playerDataDF.iloc[0]\n",
        "playerDataDF = playerDataDF.iloc[1:]\n",
        "\n",
        "playerDataDF.head(950)\n",
        "\n"
      ],
      "execution_count": null,
      "outputs": []
    },
    {
      "cell_type": "markdown",
      "metadata": {
        "id": "ShVgdHzAScRA",
        "colab_type": "text"
      },
      "source": [
        "Filter to include only Players who committed to D1 and D2 schools and create data frame of those players"
      ]
    },
    {
      "cell_type": "code",
      "metadata": {
        "id": "12MZyub-W6FB",
        "colab_type": "code",
        "colab": {}
      },
      "source": [
        "\n",
        "print(len(playerDataDF))\n",
        "filteredPlayers = []\n",
        "for x in range(len(playerDataDF)):\n",
        "  committedCollege =  playerDataDF.iloc[x][3]\n",
        "  nameList = playerDataDF.iloc[x][1].split(\",\")\n",
        "  playerDataDF.iloc[x][1] = nameList[1] + \" \" + nameList[0].title()\n",
        "  if collegeDF['College'].str.contains(committedCollege.strip()).any():\n",
        "    if(playerDataDF.iloc[x][1] == 'Lydia Murray'): \n",
        "      print(\"YES!!!!!\")\n",
        "    filteredPlayers.append([playerDataDF.iloc[x][0],playerDataDF.iloc[x][1],playerDataDF.iloc[x][2],playerDataDF.iloc[x][3],playerDataDF.iloc[x][4],playerDataDF.iloc[x][5]])\n",
        "print(filteredPlayers)\n",
        "filteredPlayersDF = pd.DataFrame(filteredPlayers)\n",
        "filteredPlayersDF.columns = playerDataDF.columns\n",
        "filteredPlayersDF.head(600)\n"
      ],
      "execution_count": null,
      "outputs": []
    },
    {
      "cell_type": "markdown",
      "metadata": {
        "id": "DGJQZW-mSk4e",
        "colab_type": "text"
      },
      "source": [
        "Create a dictionary with a key of D1 and D2 WIH colleges, and their corresponding statistics webpage"
      ]
    },
    {
      "cell_type": "code",
      "metadata": {
        "id": "ylPj0InO0ry7",
        "colab_type": "code",
        "colab": {}
      },
      "source": [
        "#add to google spreadsheet\n",
        "# worksheet = wb.add_worksheet(title=\"Filtered Hockey Players\", rows=\"1000\", cols=\"20\")\n",
        "# worksheet.update([filteredPlayersDF.columns.values.tolist()] + filteredPlayersDF.values.tolist())\n",
        "\n",
        "#create a dictionary matching college to hockey data for that college\n",
        "wb = gc.open_by_url('https://docs.google.com/spreadsheets/d/1Th01ggWcHbjQGE6HBYstuiGHbO4JTcq8FnbKgL5PzXc/edit#gid=0')\n",
        "\n",
        "collegesSheet = wb.worksheet('College Statistics Websites')\n",
        "\n",
        "collegeStatWebsiteList = collegesSheet.get_all_values()\n",
        "collegeStatWebsiteDict = {}\n",
        "for college in collegeStatWebsiteList:\n",
        "  collegeStatWebsiteDict[college[0]] = college[1]\n",
        "print(collegeStatWebsiteDict)\n",
        "\n",
        "\n"
      ],
      "execution_count": null,
      "outputs": []
    },
    {
      "cell_type": "markdown",
      "metadata": {
        "id": "HRXYaF8qS0NZ",
        "colab_type": "text"
      },
      "source": [
        "\n",
        "\n",
        "*  Ask user to enter class (freshman,sophomore...)\n",
        "*  Create a new dataset based on class of college WIH players to compare their statistics. \n",
        "\n",
        "For example, if the user entered \"1\" - corresponding to the sophomore class - the stats from all sophomores from 2014 to 2019 will be scraped and stored in a single dataset. The data is organized in this way to allow for a fair comparison and analysis. \n"
      ]
    },
    {
      "cell_type": "code",
      "metadata": {
        "id": "Fq6mjBqD14fh",
        "colab_type": "code",
        "colab": {}
      },
      "source": [
        "\n",
        "from datetime import datetime\n",
        "\n",
        "yearToCodeDict = {'2014':'1415','2015':'1516','2016':'1617','2017':'1718','2018':'1819','2019':'1920','2020':'2021'}\n",
        "\n",
        "experience = int(input(\"Enter the experience: 0,1,2,3: \"))\n",
        "\n",
        "count=0\n",
        "playerProfileDict = {}\n",
        "for season in range(2014,2019):\n",
        "  for x in range(len(filteredPlayersDF)):\n",
        "    startingYear = int(filteredPlayersDF.iloc[x][5][:4]) #entry year\n",
        "    if (startingYear == season-experience) and filteredPlayersDF.iloc[x][3] in collegeStatWebsiteDict.keys() and filteredPlayersDF.iloc[x][2] != 'G':\n",
        "      playerName = filteredPlayersDF.iloc[x][1] \n",
        "      #print(\"Player Name: {}    Starting Year: {}      Season: {}\".format(playerName,startingYear,season))\n",
        "      college = filteredPlayersDF.iloc[x][3]\n",
        "      collegeWebsite = collegeStatWebsiteDict[college]\n",
        "      collegeWebsite = collegeWebsite.replace('1819', yearToCodeDict[str(season)])\n",
        "    #  print(\"Website\",collegeWebsite)\n",
        "    # print(\"website: {}\".format(collegeWebsite))\n",
        "      statisticForSeasonDF = pd.read_html(collegeWebsite)\n",
        "    # print(\"COLLEGE: {}      {}\".format(college,playerName))\n",
        "      statisticForSeasonDF = pd.DataFrame(statisticForSeasonDF[1])\n",
        "      selectedPlayerStatistics = statisticForSeasonDF.loc[statisticForSeasonDF[1] == playerName.strip()].to_string()\n",
        "  \n",
        "      indexofname = selectedPlayerStatistics.find(playerName)\n",
        "      selectedPlayerStatistics = selectedPlayerStatistics[indexofname:]\n",
        "      #itemize full list into individual stats\n",
        "      selectedPlayerStatistics = selectedPlayerStatistics.split()\n",
        "      selectedPlayerStatistics = selectedPlayerStatistics[2:]\n",
        "      #convert dates (string object) to datetime objects\n",
        "      committed_date_time_str = filteredPlayersDF.iloc[x][0]\n",
        "      #print(committed_date_time_str)\n",
        "      committed_date_time_obj = datetime.strptime(committed_date_time_str, '%m/%d/%y') \n",
        "      entry_date_time_str = '09/01/'+filteredPlayersDF.iloc[x][5][2:4]\n",
        "      entry_date_time_obj = datetime.strptime(entry_date_time_str, '%m/%d/%y') \n",
        "      difference = entry_date_time_obj-committed_date_time_obj\n",
        "      elapsedTimeMonths = (difference.total_seconds())/2592000\n",
        "      playerProfileList = [playerName,college,entry_date_time_obj,committed_date_time_obj,round(elapsedTimeMonths,2),season]\n",
        "\n",
        "      x = 0\n",
        "      integerIndexes = [2,3,4,5,7,8,9,11,12,13,14,15,17,18,19,21,22,23,24,25]\n",
        "      for statistic in selectedPlayerStatistics:\n",
        "        if x in integerIndexes and statistic !='NaN': \n",
        "          statistic = int(statistic)\n",
        "        x +=1\n",
        "        playerProfileList.append(statistic)\n",
        "      #print(len(playerProfileList))\n",
        "      if len(playerProfileList) < 31:\n",
        "      # print(\"YEYEYEYEY\",playerName,len(playerProfileList))\n",
        "        count+=1\n",
        "        continue\n",
        "    # playerProfileList.append(filteredPlayersDF.iloc[x][5]) #appending year committed in string format  for convenience\n",
        "      playerProfileDict[playerName] = playerProfileList\n",
        "\n",
        "    \n",
        "  \n",
        "\n",
        "\n",
        "\n",
        "playerProfileDF = pd.DataFrame.from_dict(playerProfileDict, orient = 'index')\n",
        "playerProfileDF.columns = ['Player Name','College','Entry Year','Date Committed', 'Elapsed Months','Statistics From','Position',\t'YR\t','Overall GP',\t'Overall G'\t,'Overall A',\t'Overall PTS'\t,'Overall PEN/MIN',\t'Overall PP',\t'Overall SH'\t,\n",
        "                          'Overall GW'\t,'Overall +/-',\t'Overall SOG',\t'Conference GP',\t'Conference G',\t'Conference A',\t'Conference PTS',\t'Conference PEN/MIN',\t'Conference PP',\t'Conference SH',\t'Conference GW'\t,'Conference +/-',\t'Conference SOG',\t'Career GP',\t'Career G',\t'Career A',\t'Career PT']\n",
        "#playerProfileDF[playerProfileDF.POS.str.contains(None) == False]\n",
        "playerProfileDF.head(700)\n"
      ],
      "execution_count": null,
      "outputs": []
    },
    {
      "cell_type": "markdown",
      "metadata": {
        "id": "TqDCMriRVBcR",
        "colab_type": "text"
      },
      "source": [
        "Connect Google Drive to Google Colab"
      ]
    },
    {
      "cell_type": "code",
      "metadata": {
        "id": "oKxDRuYbRtV5",
        "colab_type": "code",
        "colab": {}
      },
      "source": [
        "from google.colab import drive\n",
        "drive.mount('/drive')\n"
      ],
      "execution_count": null,
      "outputs": []
    },
    {
      "cell_type": "markdown",
      "metadata": {
        "id": "bWskpChdVI16",
        "colab_type": "text"
      },
      "source": [
        "Analyze the data using [Plotly](https://plotly.com/python/), the Python Graphing Library\n",
        "\n",
        "The user will be asked to input a \"Y\" variable to be compared to the \"X\" variable - elapsed time between commit date and entry date. "
      ]
    },
    {
      "cell_type": "code",
      "metadata": {
        "id": "Wj5cyN7w0Rgo",
        "colab_type": "code",
        "colab": {}
      },
      "source": [
        "\n",
        "\n",
        "\n",
        "import matplotlib.pyplot as plt\n",
        "import plotly.express as px\n",
        "yVariable = str(input(\"Enter the statistic you wish to measure against elapsed time:\"))\n",
        "graphedDataList = []\n",
        "\n",
        "for key in playerProfileDF['Elapsed Months'].keys(): #key is the player name\n",
        "  graphedDataList.append([key,playerProfileDF['Position'][key],playerProfileDF['Elapsed Months'][key],playerProfileDF[yVariable][key],playerProfileDF['College'][key],playerProfileDF['Statistics From'][key],playerProfileDF['Overall GP'][key]])\n",
        "\n",
        "sumX = 0\n",
        "sumY = 0\n",
        "for each in graphedDataList:\n",
        "  sumX = sumX + float(each[2])\n",
        "  sumY = sumY + int(each[3])\n",
        "graphedDataList.append(['MEAN','MEAN',sumX/len(graphedDataList),sumY/len(graphedDataList),'NA','NA','NA'])\n",
        "graphedDataDF = pd.DataFrame(graphedDataList)\n",
        "graphedDataDF.columns = ['Player Name','Position', 'Elapsed Months', yVariable,'College','Statistics From','Overall GP']\n",
        "graphedDataDF.head(60)\n",
        "\n",
        "\n",
        "\n",
        "experienceToClassDict = {0:'Freshmen',1:\"Sophomore\",2:\"Junior\",3:'Senior'}\n",
        "\n",
        "\n",
        "fig = px.scatter(graphedDataDF, x=\"Elapsed Months\", y=yVariable,color = 'Position',hover_name=\"Player Name\",hover_data=[\"College\",'Statistics From','Overall GP'])#hover_data=[\"continent\", \"pop\"])\n",
        "#fig.update_traces(marker_color='blue',line_color='red')\n",
        "fig.update_layout(\n",
        "    title= yVariable + \" vs Elapsed Months, \"+experienceToClassDict[experience] + \" Hockey Players\" ,\n",
        " \n",
        "    font=dict(\n",
        "        family=\"Courier New, monospace\",\n",
        "        size=18,\n",
        "        color=\"#7f7f7f\"\n",
        "    )\n",
        ")\n",
        "fig.show()\n",
        "fig.write_html(\"/drive/My Drive/\"+experienceToClassDict[experience]+\"HockeyDataset.html\")\n",
        "\n",
        "\n",
        "\n"
      ],
      "execution_count": null,
      "outputs": []
    }
  ]
}