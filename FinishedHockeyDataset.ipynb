{
  "nbformat": 4,
  "nbformat_minor": 0,
  "metadata": {
    "colab": {
      "name": "FinishedHockeyDataset.ipynb",
      "provenance": [],
      "collapsed_sections": [],
      "authorship_tag": "ABX9TyOR7doHSn+cpYTcjtS5gZMr",
      "include_colab_link": true
    },
    "kernelspec": {
      "name": "python3",
      "display_name": "Python 3"
    }
  },
  "cells": [
    {
      "cell_type": "markdown",
      "metadata": {
        "id": "view-in-github",
        "colab_type": "text"
      },
      "source": [
        "<a href=\"https://colab.research.google.com/github/VikramAchuthan/HockeyDataset/blob/master/FinishedHockeyDataset.ipynb\" target=\"_parent\"><img src=\"https://colab.research.google.com/assets/colab-badge.svg\" alt=\"Open In Colab\"/></a>"
      ]
    },
    {
      "cell_type": "markdown",
      "metadata": {
        "id": "eviu_6TbRizY",
        "colab_type": "text"
      },
      "source": [
        "Import initial libraries"
      ]
    },
    {
      "cell_type": "code",
      "metadata": {
        "id": "EbEV6_qmSNhl",
        "colab_type": "code",
        "colab": {}
      },
      "source": [
        "from google.colab import auth\n",
        "auth.authenticate_user()\n",
        "import gspread\n",
        "from oauth2client.client import GoogleCredentials\n",
        "gc = gspread.authorize(GoogleCredentials.get_application_default())\n",
        "import pandas as pd\n",
        "import numpy as np"
      ],
      "execution_count": 11,
      "outputs": []
    },
    {
      "cell_type": "markdown",
      "metadata": {
        "id": "MTw70AUxQ163",
        "colab_type": "text"
      },
      "source": [
        "Retrieve data of all D1 and D2 NCAA women's hockey colleges from separate google sheet spreadsheet\n"
      ]
    },
    {
      "cell_type": "code",
      "metadata": {
        "id": "ic_1OxtaSUpH",
        "colab_type": "code",
        "colab": {}
      },
      "source": [
        "wb = gc.open_by_url('https://docs.google.com/spreadsheets/d/1Th01ggWcHbjQGE6HBYstuiGHbO4JTcq8FnbKgL5PzXc/edit#gid=0')\n",
        "\n",
        "collegesSheet = wb.worksheet('NCAA D1 and D2 Schools')\n",
        "\n",
        "collegesData = collegesSheet.get_all_values()\n",
        "print(collegesData)"
      ],
      "execution_count": null,
      "outputs": []
    },
    {
      "cell_type": "markdown",
      "metadata": {
        "id": "Ar-zT72oR0v2",
        "colab_type": "text"
      },
      "source": [
        "Store colleges in panda dataframe\n"
      ]
    },
    {
      "cell_type": "code",
      "metadata": {
        "id": "y8Xlyoc1UQIW",
        "colab_type": "code",
        "colab": {}
      },
      "source": [
        "\n",
        "collegeDF = pd.DataFrame(collegesData)\n",
        "collegeDF.columns = collegeDF.iloc[0]\n",
        "collegeDF = collegeDF.iloc[1:]\n",
        "\n",
        "collegeDF.head(40)\n",
        "print(collegeDF.columns)"
      ],
      "execution_count": null,
      "outputs": []
    },
    {
      "cell_type": "markdown",
      "metadata": {
        "id": "aYerXoqtR4Wu",
        "colab_type": "text"
      },
      "source": [
        "Scrape data of all players who committed to schools to play Women's Ice Hockey from collegecommitments.com.\n",
        "\n",
        "*Note: Collegecommitments.com does not host requisite data currently, so this is not required. *`"
      ]
    },
    {
      "cell_type": "code",
      "metadata": {
        "id": "0oNihJ4CiK9J",
        "colab_type": "code",
        "colab": {}
      },
      "source": [
        "\n",
        "\n",
        "\n",
        "import requests\n",
        "import lxml.html as lh\n",
        "#website with data\n",
        "url='https://collegecommitments.com/CommitList.aspx?x7cq9=FEMALE'\n",
        "#Create a handle, page, to handle the contents of the website\n",
        "page = requests.get(url)\n",
        "#Store the contents of the website under doc\n",
        "doc = lh.fromstring(page.content)\n",
        "#Parse data that are stored between <tr>..</tr> of HTML\n",
        "tr_elements = doc.xpath('//tr')\n",
        "\n",
        "\n",
        "tr_elements_new = tr_elements[5:]\n",
        "\n"
      ],
      "execution_count": null,
      "outputs": []
    },
    {
      "cell_type": "code",
      "metadata": {
        "id": "SkT6zKh65ytb",
        "colab_type": "code",
        "colab": {}
      },
      "source": [
        "col=[]\n",
        "i=0\n",
        "tableHead = ['Date','Player Name', 'Pos.','College','Current Team', 'Starting Year']\n",
        "\n",
        "#For each row, store each first element (header) and an empty list\n",
        "for x in range(0,6):\n",
        "    i+=1\n",
        "    name=tableHead[x]\n",
        "    print('%d:\"%s\"'%(i,name))\n",
        "    col.append((name,[]))\n",
        "\n",
        "for j in range(1,len(tr_elements_new)):\n",
        "    #T is our j'th row\n",
        "    T=tr_elements_new[j]\n",
        "    \n",
        "    #If row is not of size 10, the //tr data is not from our table \n",
        "    if len(T)!=6:\n",
        "        break\n",
        "    \n",
        "    #i is the index of our column\n",
        "    i=0\n",
        "    \n",
        "    #Iterate through each element of the row\n",
        "    for t in T.iterchildren():\n",
        "        data=t.text_content() \n",
        "        #Check if row is empty\n",
        "        if i>0:\n",
        "        #Convert any numerical value to integers\n",
        "            try:\n",
        "                data=int(data)\n",
        "            except:\n",
        "                pass\n",
        "        #Append the data to the empty list of the i'th column\n",
        "        col[i][1].append(data)\n",
        "        #Increment i for the next column\n",
        "        i+=1\n",
        "\n",
        "#create panda dataframe of all players who committed \n",
        "playerDataDict={title:column for (title,column) in col}\n",
        "playerDataDF=pd.DataFrame(playerDataDict)\n",
        "playerDataDF.head(950)\n"
      ],
      "execution_count": null,
      "outputs": []
    },
    {
      "cell_type": "markdown",
      "metadata": {
        "id": "woseiBiwSQeu",
        "colab_type": "text"
      },
      "source": [
        "Scrape prerecorded data from google spreadsheet"
      ]
    },
    {
      "cell_type": "code",
      "metadata": {
        "id": "9JZgRgDuN7hf",
        "colab_type": "code",
        "colab": {}
      },
      "source": [
        "playerSheet = wb.worksheet('Players Information')\n",
        "\n",
        "playerData = playerSheet.get_all_values()\n",
        "\n",
        "playerDataDF = pd.DataFrame(playerData)\n",
        "playerDataDF.columns = playerDataDF.iloc[0]\n",
        "playerDataDF = playerDataDF.iloc[1:]\n",
        "\n",
        "playerDataDF.head(950)\n",
        "\n"
      ],
      "execution_count": null,
      "outputs": []
    },
    {
      "cell_type": "markdown",
      "metadata": {
        "id": "ShVgdHzAScRA",
        "colab_type": "text"
      },
      "source": [
        "Filter to include only Players who committed to D1 and D2 schools and create data frame of those players"
      ]
    },
    {
      "cell_type": "code",
      "metadata": {
        "id": "12MZyub-W6FB",
        "colab_type": "code",
        "colab": {}
      },
      "source": [
        "\n",
        "print(len(playerDataDF))\n",
        "filteredPlayers = []\n",
        "for x in range(len(playerDataDF)):\n",
        "  committedCollege =  playerDataDF.iloc[x][3]\n",
        "  nameList = playerDataDF.iloc[x][1].split(\",\")\n",
        "  playerDataDF.iloc[x][1] = nameList[1] + \" \" + nameList[0].title()\n",
        "  if collegeDF['College'].str.contains(committedCollege.strip()).any():\n",
        "    if(playerDataDF.iloc[x][1] == 'Lydia Murray'): \n",
        "      print(\"YES!!!!!\")\n",
        "    filteredPlayers.append([playerDataDF.iloc[x][0],playerDataDF.iloc[x][1],playerDataDF.iloc[x][2],playerDataDF.iloc[x][3],playerDataDF.iloc[x][4],playerDataDF.iloc[x][5]])\n",
        "print(filteredPlayers)\n",
        "filteredPlayersDF = pd.DataFrame(filteredPlayers)\n",
        "filteredPlayersDF.columns = playerDataDF.columns\n",
        "filteredPlayersDF.head(600)\n"
      ],
      "execution_count": null,
      "outputs": []
    },
    {
      "cell_type": "markdown",
      "metadata": {
        "id": "DGJQZW-mSk4e",
        "colab_type": "text"
      },
      "source": [
        "Create a dictionary with a key of D1 and D2 WIH colleges, and their corresponding statistics webpage"
      ]
    },
    {
      "cell_type": "code",
      "metadata": {
        "id": "ylPj0InO0ry7",
        "colab_type": "code",
        "colab": {}
      },
      "source": [
        "#add to google spreadsheet\n",
        "# worksheet = wb.add_worksheet(title=\"Filtered Hockey Players\", rows=\"1000\", cols=\"20\")\n",
        "# worksheet.update([filteredPlayersDF.columns.values.tolist()] + filteredPlayersDF.values.tolist())\n",
        "\n",
        "#create a dictionary matching college to hockey data for that college\n",
        "wb = gc.open_by_url('https://docs.google.com/spreadsheets/d/1Th01ggWcHbjQGE6HBYstuiGHbO4JTcq8FnbKgL5PzXc/edit#gid=0')\n",
        "\n",
        "collegesSheet = wb.worksheet('College Statistics Websites')\n",
        "\n",
        "collegeStatWebsiteList = collegesSheet.get_all_values()\n",
        "collegeStatWebsiteDict = {}\n",
        "for college in collegeStatWebsiteList:\n",
        "  collegeStatWebsiteDict[college[0]] = college[1]\n",
        "print(collegeStatWebsiteDict)\n",
        "\n",
        "\n"
      ],
      "execution_count": null,
      "outputs": []
    },
    {
      "cell_type": "markdown",
      "metadata": {
        "id": "HRXYaF8qS0NZ",
        "colab_type": "text"
      },
      "source": [
        "\n",
        "\n",
        "*  Ask user to enter class (freshman,sophomore...)\n",
        "*  Create a new dataset based on class of college WIH players to compare their statistics. \n",
        "\n",
        "For example, if the user entered \"1\" - corresponding to the sophomore class - the stats from all sophomores from 2014 to 2019 will be scraped and stored in a single dataset. The data is organized in this way to allow for a fair comparison and analysis. \n"
      ]
    },
    {
      "cell_type": "code",
      "metadata": {
        "id": "Fq6mjBqD14fh",
        "colab_type": "code",
        "colab": {}
      },
      "source": [
        "\n",
        "from datetime import datetime\n",
        "\n",
        "yearToCodeDict = {'2014':'1415','2015':'1516','2016':'1617','2017':'1718','2018':'1819','2019':'1920','2020':'2021'}\n",
        "\n",
        "experience = int(input(\"Enter the experience: 0,1,2,3: \"))\n",
        "\n",
        "count=0\n",
        "playerProfileDict = {}\n",
        "for season in range(2014,2019):\n",
        "  for x in range(len(filteredPlayersDF)):\n",
        "    startingYear = int(filteredPlayersDF.iloc[x][5][:4]) #entry year\n",
        "    if (startingYear == season-experience) and filteredPlayersDF.iloc[x][3] in collegeStatWebsiteDict.keys() and filteredPlayersDF.iloc[x][2] != 'G':\n",
        "      playerName = filteredPlayersDF.iloc[x][1] \n",
        "      #print(\"Player Name: {}    Starting Year: {}      Season: {}\".format(playerName,startingYear,season))\n",
        "      college = filteredPlayersDF.iloc[x][3]\n",
        "      collegeWebsite = collegeStatWebsiteDict[college]\n",
        "      collegeWebsite = collegeWebsite.replace('1819', yearToCodeDict[str(season)])\n",
        "    #  print(\"Website\",collegeWebsite)\n",
        "    # print(\"website: {}\".format(collegeWebsite))\n",
        "      statisticForSeasonDF = pd.read_html(collegeWebsite)\n",
        "    # print(\"COLLEGE: {}      {}\".format(college,playerName))\n",
        "      statisticForSeasonDF = pd.DataFrame(statisticForSeasonDF[1])\n",
        "      selectedPlayerStatistics = statisticForSeasonDF.loc[statisticForSeasonDF[1] == playerName.strip()].to_string()\n",
        "  \n",
        "      indexofname = selectedPlayerStatistics.find(playerName)\n",
        "      selectedPlayerStatistics = selectedPlayerStatistics[indexofname:]\n",
        "      #itemize full list into individual stats\n",
        "      selectedPlayerStatistics = selectedPlayerStatistics.split()\n",
        "      selectedPlayerStatistics = selectedPlayerStatistics[2:]\n",
        "      #convert dates (string object) to datetime objects\n",
        "      committed_date_time_str = filteredPlayersDF.iloc[x][0]\n",
        "      #print(committed_date_time_str)\n",
        "      committed_date_time_obj = datetime.strptime(committed_date_time_str, '%m/%d/%y') \n",
        "      entry_date_time_str = '09/01/'+filteredPlayersDF.iloc[x][5][2:4]\n",
        "      entry_date_time_obj = datetime.strptime(entry_date_time_str, '%m/%d/%y') \n",
        "      difference = entry_date_time_obj-committed_date_time_obj\n",
        "      elapsedTimeMonths = (difference.total_seconds())/2592000\n",
        "      playerProfileList = [playerName,college,entry_date_time_obj,committed_date_time_obj,round(elapsedTimeMonths,2),season]\n",
        "\n",
        "      x = 0\n",
        "      integerIndexes = [2,3,4,5,7,8,9,11,12,13,14,15,17,18,19,21,22,23,24,25]\n",
        "      for statistic in selectedPlayerStatistics:\n",
        "        if x in integerIndexes and statistic !='NaN': \n",
        "          statistic = int(statistic)\n",
        "        x +=1\n",
        "        playerProfileList.append(statistic)\n",
        "      #print(len(playerProfileList))\n",
        "      if len(playerProfileList) < 31:\n",
        "      # print(\"YEYEYEYEY\",playerName,len(playerProfileList))\n",
        "        count+=1\n",
        "        continue\n",
        "    # playerProfileList.append(filteredPlayersDF.iloc[x][5]) #appending year committed in string format  for convenience\n",
        "      playerProfileDict[playerName] = playerProfileList\n",
        "\n",
        "    \n",
        "  \n",
        "\n",
        "\n",
        "\n",
        "playerProfileDF = pd.DataFrame.from_dict(playerProfileDict, orient = 'index')\n",
        "playerProfileDF.columns = ['Player Name','College','Entry Year','Date Committed', 'Elapsed Months','Statistics From','Position',\t'YR\t','Overall GP',\t'Overall G'\t,'Overall A',\t'Overall PTS'\t,'Overall PEN/MIN',\t'Overall PP',\t'Overall SH'\t,\n",
        "                          'Overall GW'\t,'Overall +/-',\t'Overall SOG',\t'Conference GP',\t'Conference G',\t'Conference A',\t'Conference PTS',\t'Conference PEN/MIN',\t'Conference PP',\t'Conference SH',\t'Conference GW'\t,'Conference +/-',\t'Conference SOG',\t'Career GP',\t'Career G',\t'Career A',\t'Career PT']\n",
        "#playerProfileDF[playerProfileDF.POS.str.contains(None) == False]\n",
        "playerProfileDF.head(700)\n"
      ],
      "execution_count": null,
      "outputs": []
    },
    {
      "cell_type": "markdown",
      "metadata": {
        "id": "TqDCMriRVBcR",
        "colab_type": "text"
      },
      "source": [
        "Connect Google Drive to Google Colab"
      ]
    },
    {
      "cell_type": "code",
      "metadata": {
        "id": "oKxDRuYbRtV5",
        "colab_type": "code",
        "colab": {}
      },
      "source": [
        "from google.colab import drive\n",
        "drive.mount('/drive')\n"
      ],
      "execution_count": null,
      "outputs": []
    },
    {
      "cell_type": "markdown",
      "metadata": {
        "id": "bWskpChdVI16",
        "colab_type": "text"
      },
      "source": [
        "Analyze the data using [Plotly](https://plotly.com/python/), the Python Graphing Library\n",
        "\n",
        "The user will be asked to input a \"Y\" variable to be compared to the \"X\" variable - elapsed time between commit date and entry date. \n",
        "\n",
        "*An example of the final plot output is below. *"
      ]
    },
    {
      "cell_type": "code",
      "metadata": {
        "id": "Wj5cyN7w0Rgo",
        "colab_type": "code",
        "colab": {
          "base_uri": "https://localhost:8080/",
          "height": 559
        },
        "outputId": "38445e04-3122-4d63-c888-ac5e162678df"
      },
      "source": [
        "\n",
        "\n",
        "\n",
        "import matplotlib.pyplot as plt\n",
        "import plotly.express as px\n",
        "yVariable = str(input(\"Enter the statistic you wish to measure against elapsed time:\"))\n",
        "graphedDataList = []\n",
        "\n",
        "for key in playerProfileDF['Elapsed Months'].keys(): #key is the player name\n",
        "  graphedDataList.append([key,playerProfileDF['Position'][key],playerProfileDF['Elapsed Months'][key],playerProfileDF[yVariable][key],playerProfileDF['College'][key],playerProfileDF['Statistics From'][key],playerProfileDF['Overall GP'][key]])\n",
        "\n",
        "sumX = 0\n",
        "sumY = 0\n",
        "for each in graphedDataList:\n",
        "  sumX = sumX + float(each[2])\n",
        "  sumY = sumY + int(each[3])\n",
        "graphedDataList.append(['MEAN','MEAN',sumX/len(graphedDataList),sumY/len(graphedDataList),'NA','NA','NA'])\n",
        "graphedDataDF = pd.DataFrame(graphedDataList)\n",
        "graphedDataDF.columns = ['Player Name','Position', 'Elapsed Months', yVariable,'College','Statistics From','Overall GP']\n",
        "graphedDataDF.head(60)\n",
        "\n",
        "\n",
        "\n",
        "experienceToClassDict = {0:'Freshmen',1:\"Sophomore\",2:\"Junior\",3:'Senior'}\n",
        "\n",
        "\n",
        "fig = px.scatter(graphedDataDF, x=\"Elapsed Months\", y=yVariable,color = 'Position',hover_name=\"Player Name\",hover_data=[\"College\",'Statistics From','Overall GP'])#hover_data=[\"continent\", \"pop\"])\n",
        "#fig.update_traces(marker_color='blue',line_color='red')\n",
        "fig.update_layout(\n",
        "    title= yVariable + \" vs Elapsed Months, \"+experienceToClassDict[experience] + \" Hockey Players\" ,\n",
        " \n",
        "    font=dict(\n",
        "        family=\"Courier New, monospace\",\n",
        "        size=18,\n",
        "        color=\"#7f7f7f\"\n",
        "    )\n",
        ")\n",
        "fig.show()\n",
        "fig.write_html(\"/drive/My Drive/\"+experienceToClassDict[experience]+\"HockeyDataset.html\")\n",
        "\n",
        "\n",
        "\n"
      ],
      "execution_count": 21,
      "outputs": [
        {
          "output_type": "stream",
          "text": [
            "Enter the statistic you wish to measure against elapsed time:Overall PTS\n"
          ],
          "name": "stdout"
        },
        {
          "output_type": "display_data",
          "data": {
            "text/html": [
              "<html>\n",
              "<head><meta charset=\"utf-8\" /></head>\n",
              "<body>\n",
              "    <div>\n",
              "            <script src=\"https://cdnjs.cloudflare.com/ajax/libs/mathjax/2.7.5/MathJax.js?config=TeX-AMS-MML_SVG\"></script><script type=\"text/javascript\">if (window.MathJax) {MathJax.Hub.Config({SVG: {font: \"STIX-Web\"}});}</script>\n",
              "                <script type=\"text/javascript\">window.PlotlyConfig = {MathJaxConfig: 'local'};</script>\n",
              "        <script src=\"https://cdn.plot.ly/plotly-latest.min.js\"></script>    \n",
              "            <div id=\"c3b78f76-522b-4b62-8eae-391200e2d142\" class=\"plotly-graph-div\" style=\"height:525px; width:100%;\"></div>\n",
              "            <script type=\"text/javascript\">\n",
              "                \n",
              "                    window.PLOTLYENV=window.PLOTLYENV || {};\n",
              "                    \n",
              "                if (document.getElementById(\"c3b78f76-522b-4b62-8eae-391200e2d142\")) {\n",
              "                    Plotly.newPlot(\n",
              "                        'c3b78f76-522b-4b62-8eae-391200e2d142',\n",
              "                        [{\"customdata\": [[\"Lindenwood University\", 2015, 37], [\"University of Minnesota\", 2015, 10], [\"Syracuse University\", 2015, 36], [\"Lindenwood University\", 2015, 37], [\"Lindenwood University\", 2015, 37], [\"University of Connecticut\", 2015, 37], [\"St. Lawrence University\", 2015, 38], [\"Quinnipiac University\", 2015, 38], [\"Boston College\", 2015, 41], [\"Yale University\", 2015, 22], [\"University of Wisconsin\", 2015, 40], [\"Clarkson University\", 2015, 39], [\"Clarkson University\", 2015, 40], [\"Cornell University\", 2015, 31], [\"Harvard University\", 2015, 32], [\"Harvard University\", 2015, 32], [\"Princeton University\", 2015, 33], [\"Providence College\", 2015, 36], [\"University of New Hampshire\", 2015, 36], [\"Boston College\", 2015, 41], [\"Boston College\", 2015, 14], [\"Mercyhurst University\", 2015, 33], [\"University of Connecticut\", 2015, 35], [\"Ohio State University\", 2015, 36], [\"University of Minnesota\", 2015, 38], [\"Bemidji State University\", 2015, 9], [\"Ohio State University\", 2015, 19], [\"Providence College\", 2015, 36], [\"Union College\", 2016, 30], [\"Cornell University\", 2016, 33], [\"Boston College\", 2016, 37], [\"Boston College\", 2016, 37], [\"Robert Morris University\", 2016, 20], [\"St. Lawrence University\", 2017, 35], [\"Northeastern University\", 2017, 37], [\"Union College\", 2017, 34], [\"Brown University\", 2017, 26], [\"St. Lawrence University\", 2017, 29], [\"University of New Hampshire\", 2017, 11], [\"Sacred Heart University\", 2018, 1]], \"hoverlabel\": {\"namelength\": 0}, \"hovertemplate\": \"<b>%{hovertext}</b><br><br>Position=F<br>Elapsed Months=%{x}<br>Overall PTS=%{y}<br>College=%{customdata[0]}<br>Statistics From=%{customdata[1]}<br>Overall GP=%{customdata[2]}\", \"hovertext\": [\" Corbin Welsh\", \" Sierra Smith\", \" Sarah Stuehr\", \" Shannon Morris-Reade\", \" Tirra Lemoine\", \" Nora Maclaine\", \" Justine Reyes\", \" Melissa Samoskevich\", \" Makenna Newkirk\", \" Emma Vlasic\", \" Sophia Shaver\", \" Kelly Mariani\", \" Cassidy Vinkle\", \" Lenka Serdar\", \" Audrey Warner\", \" Grace Zarzecki\", \" Karlie Lund\", \" Emily Landry\", \" Devan Taylor\", \" Ryan Little\", \" Molly Slowe\", \" Morgan Stacey\", \" Rebecca Lindblad\", \" Erin Langermeier\", \" Taylor Williamson\", \" Sylvia Marolt\", \" Dana Rasmussen\", \" Christina Putigna\", \" Bridgit Sullivan\", \" Hanna Mutschelknaus\", \" Rachel Moore\", \" Caitrin Lonergan\", \" Emma Low-A-Chee\", \" Rachael Smith\", \" Tori Sullivan\", \" Sierra Lee\", \" Maddie Sisokin\", \" Natalie Wozney\", \" Martha Peppes\", \" Elizabeth Furfari\"], \"legendgroup\": \"Position=F\", \"marker\": {\"color\": \"#636efa\", \"symbol\": \"circle\"}, \"mode\": \"markers\", \"name\": \"Position=F\", \"showlegend\": true, \"type\": \"scatter\", \"x\": [4.1, 6.03, 6.73, 8.83, 8.83, 9.53, 9.53, 9.73, 9.73, 9.73, 9.73, 9.73, 9.73, 9.73, 9.73, 9.73, 9.73, 9.73, 9.73, 9.73, 9.73, 9.73, 9.73, 9.73, 9.73, 9.73, 9.73, 9.73, 2.57, 9.4, 17.5, 21.93, 21.93, 2.4, 3.2, 10.0, 11.23, 21.1, 23.47, 8.57], \"xaxis\": \"x\", \"y\": [3.0, 0.0, 0.0, 23.0, 2.0, 2.0, 20.0, 32.0, 49.0, 2.0, 17.0, 18.0, 10.0, 7.0, 6.0, 15.0, 39.0, 5.0, 7.0, 3.0, 1.0, 5.0, 2.0, 2.0, 15.0, 0.0, 3.0, 28.0, 1.0, 2.0, 0.0, 33.0, 0.0, 24.0, 23.0, 5.0, 2.0, 1.0, 0.0, 1.0], \"yaxis\": \"y\"}, {\"customdata\": [[\"Union College\", 2015, 34], [\"Brown University\", 2015, 29], [\"Union College\", 2015, 34]], \"hoverlabel\": {\"namelength\": 0}, \"hovertemplate\": \"<b>%{hovertext}</b><br><br>Position=F/D<br>Elapsed Months=%{x}<br>Overall PTS=%{y}<br>College=%{customdata[0]}<br>Statistics From=%{customdata[1]}<br>Overall GP=%{customdata[2]}\", \"hovertext\": [\" Kelli Mackey\", \" Cara Najjar\", \" Jacyn Reeves\"], \"legendgroup\": \"Position=F/D\", \"marker\": {\"color\": \"#EF553B\", \"symbol\": \"circle\"}, \"mode\": \"markers\", \"name\": \"Position=F/D\", \"showlegend\": true, \"type\": \"scatter\", \"x\": [5.83, 9.73, 9.73], \"xaxis\": \"x\", \"y\": [1.0, 9.0, 9.0], \"yaxis\": \"y\"}, {\"customdata\": [[\"University of New Hampshire\", 2015, 36], [\"Brown University\", 2015, 29], [\"Clarkson University\", 2015, 40], [\"University of New Hampshire\", 2015, 36], [\"Union College\", 2015, 17], [\"University of Connecticut\", 2015, 37], [\"University of Minnesota\", 2015, 39], [\"Bemidji State University\", 2015, 20], [\"University of Vermont\", 2015, 37], [\"St. Lawrence University\", 2016, 33], [\"Union College\", 2017, 6], [\"University of Connecticut\", 2017, 21], [\"Sacred Heart University\", 2018, 30], [\"Lindenwood University\", 2018, 33]], \"hoverlabel\": {\"namelength\": 0}, \"hovertemplate\": \"<b>%{hovertext}</b><br><br>Position=D<br>Elapsed Months=%{x}<br>Overall PTS=%{y}<br>College=%{customdata[0]}<br>Statistics From=%{customdata[1]}<br>Overall GP=%{customdata[2]}\", \"hovertext\": [\" Jenna Rheault\", \" Leah Olson\", \" Josiane Pozzebon\", \" Marie-Jo Pelletier\", \" Sloan Sullivan\", \" Kayla Mee\", \" Sophie Skarzynski\", \" Lisa Laiti\", \" Daria O'Neill\", \" Emily Middagh\", \" Aimely Michaud-Nolan\", \" Carley Olivier\", \" Kelly Solak\", \" Taylor Kirwan\"], \"legendgroup\": \"Position=D\", \"marker\": {\"color\": \"#00cc96\", \"symbol\": \"circle\"}, \"mode\": \"markers\", \"name\": \"Position=D\", \"showlegend\": true, \"type\": \"scatter\", \"x\": [9.53, 9.53, 9.7, 9.73, 9.73, 9.73, 9.73, 9.73, 9.73, 4.37, 9.87, 21.97, 10.87, 26.47], \"xaxis\": \"x\", \"y\": [3.0, 11.0, 14.0, 8.0, 0.0, 15.0, 9.0, 0.0, 13.0, 4.0, 0.0, 2.0, 14.0, 14.0], \"yaxis\": \"y\"}, {\"customdata\": [[\"Providence College\", 2015, 34]], \"hoverlabel\": {\"namelength\": 0}, \"hovertemplate\": \"<b>%{hovertext}</b><br><br>Position=D/F<br>Elapsed Months=%{x}<br>Overall PTS=%{y}<br>College=%{customdata[0]}<br>Statistics From=%{customdata[1]}<br>Overall GP=%{customdata[2]}\", \"hovertext\": [\" Arianna Reid\"], \"legendgroup\": \"Position=D/F\", \"marker\": {\"color\": \"#ab63fa\", \"symbol\": \"circle\"}, \"mode\": \"markers\", \"name\": \"Position=D/F\", \"showlegend\": true, \"type\": \"scatter\", \"x\": [9.73], \"xaxis\": \"x\", \"y\": [2.0], \"yaxis\": \"y\"}, {\"customdata\": [[\"NA\", \"NA\", \"NA\"]], \"hoverlabel\": {\"namelength\": 0}, \"hovertemplate\": \"<b>%{hovertext}</b><br><br>Position=MEAN<br>Elapsed Months=%{x}<br>Overall PTS=%{y}<br>College=%{customdata[0]}<br>Statistics From=%{customdata[1]}<br>Overall GP=%{customdata[2]}\", \"hovertext\": [\"MEAN\"], \"legendgroup\": \"Position=MEAN\", \"marker\": {\"color\": \"#FFA15A\", \"symbol\": \"circle\"}, \"mode\": \"markers\", \"name\": \"Position=MEAN\", \"showlegend\": true, \"type\": \"scatter\", \"x\": [10.464137931034486], \"xaxis\": \"x\", \"y\": [9.241379310344827], \"yaxis\": \"y\"}],\n",
              "                        {\"font\": {\"color\": \"#7f7f7f\", \"family\": \"Courier New, monospace\", \"size\": 18}, \"legend\": {\"tracegroupgap\": 0}, \"margin\": {\"t\": 60}, \"template\": {\"data\": {\"bar\": [{\"error_x\": {\"color\": \"#2a3f5f\"}, \"error_y\": {\"color\": \"#2a3f5f\"}, \"marker\": {\"line\": {\"color\": \"#E5ECF6\", \"width\": 0.5}}, \"type\": \"bar\"}], \"barpolar\": [{\"marker\": {\"line\": {\"color\": \"#E5ECF6\", \"width\": 0.5}}, \"type\": \"barpolar\"}], \"carpet\": [{\"aaxis\": {\"endlinecolor\": \"#2a3f5f\", \"gridcolor\": \"white\", \"linecolor\": \"white\", \"minorgridcolor\": \"white\", \"startlinecolor\": \"#2a3f5f\"}, \"baxis\": {\"endlinecolor\": \"#2a3f5f\", \"gridcolor\": \"white\", \"linecolor\": \"white\", \"minorgridcolor\": \"white\", \"startlinecolor\": \"#2a3f5f\"}, \"type\": \"carpet\"}], \"choropleth\": [{\"colorbar\": {\"outlinewidth\": 0, \"ticks\": \"\"}, \"type\": \"choropleth\"}], \"contour\": [{\"colorbar\": {\"outlinewidth\": 0, \"ticks\": \"\"}, \"colorscale\": [[0.0, \"#0d0887\"], [0.1111111111111111, \"#46039f\"], [0.2222222222222222, \"#7201a8\"], [0.3333333333333333, \"#9c179e\"], [0.4444444444444444, \"#bd3786\"], [0.5555555555555556, \"#d8576b\"], [0.6666666666666666, \"#ed7953\"], [0.7777777777777778, \"#fb9f3a\"], [0.8888888888888888, \"#fdca26\"], [1.0, \"#f0f921\"]], \"type\": \"contour\"}], \"contourcarpet\": [{\"colorbar\": {\"outlinewidth\": 0, \"ticks\": \"\"}, \"type\": \"contourcarpet\"}], \"heatmap\": [{\"colorbar\": {\"outlinewidth\": 0, \"ticks\": \"\"}, \"colorscale\": [[0.0, \"#0d0887\"], [0.1111111111111111, \"#46039f\"], [0.2222222222222222, \"#7201a8\"], [0.3333333333333333, \"#9c179e\"], [0.4444444444444444, \"#bd3786\"], [0.5555555555555556, \"#d8576b\"], [0.6666666666666666, \"#ed7953\"], [0.7777777777777778, \"#fb9f3a\"], [0.8888888888888888, \"#fdca26\"], [1.0, \"#f0f921\"]], \"type\": \"heatmap\"}], \"heatmapgl\": [{\"colorbar\": {\"outlinewidth\": 0, \"ticks\": \"\"}, \"colorscale\": [[0.0, \"#0d0887\"], [0.1111111111111111, \"#46039f\"], [0.2222222222222222, \"#7201a8\"], [0.3333333333333333, \"#9c179e\"], [0.4444444444444444, \"#bd3786\"], [0.5555555555555556, \"#d8576b\"], [0.6666666666666666, \"#ed7953\"], [0.7777777777777778, \"#fb9f3a\"], [0.8888888888888888, \"#fdca26\"], [1.0, \"#f0f921\"]], \"type\": \"heatmapgl\"}], \"histogram\": [{\"marker\": {\"colorbar\": {\"outlinewidth\": 0, \"ticks\": \"\"}}, \"type\": \"histogram\"}], \"histogram2d\": [{\"colorbar\": {\"outlinewidth\": 0, \"ticks\": \"\"}, \"colorscale\": [[0.0, \"#0d0887\"], [0.1111111111111111, \"#46039f\"], [0.2222222222222222, \"#7201a8\"], [0.3333333333333333, \"#9c179e\"], [0.4444444444444444, \"#bd3786\"], [0.5555555555555556, \"#d8576b\"], [0.6666666666666666, \"#ed7953\"], [0.7777777777777778, \"#fb9f3a\"], [0.8888888888888888, \"#fdca26\"], [1.0, \"#f0f921\"]], \"type\": \"histogram2d\"}], \"histogram2dcontour\": [{\"colorbar\": {\"outlinewidth\": 0, \"ticks\": \"\"}, \"colorscale\": [[0.0, \"#0d0887\"], [0.1111111111111111, \"#46039f\"], [0.2222222222222222, \"#7201a8\"], [0.3333333333333333, \"#9c179e\"], [0.4444444444444444, \"#bd3786\"], [0.5555555555555556, \"#d8576b\"], [0.6666666666666666, \"#ed7953\"], [0.7777777777777778, \"#fb9f3a\"], [0.8888888888888888, \"#fdca26\"], [1.0, \"#f0f921\"]], \"type\": \"histogram2dcontour\"}], \"mesh3d\": [{\"colorbar\": {\"outlinewidth\": 0, \"ticks\": \"\"}, \"type\": \"mesh3d\"}], \"parcoords\": [{\"line\": {\"colorbar\": {\"outlinewidth\": 0, \"ticks\": \"\"}}, \"type\": \"parcoords\"}], \"pie\": [{\"automargin\": true, \"type\": \"pie\"}], \"scatter\": [{\"marker\": {\"colorbar\": {\"outlinewidth\": 0, \"ticks\": \"\"}}, \"type\": \"scatter\"}], \"scatter3d\": [{\"line\": {\"colorbar\": {\"outlinewidth\": 0, \"ticks\": \"\"}}, \"marker\": {\"colorbar\": {\"outlinewidth\": 0, \"ticks\": \"\"}}, \"type\": \"scatter3d\"}], \"scattercarpet\": [{\"marker\": {\"colorbar\": {\"outlinewidth\": 0, \"ticks\": \"\"}}, \"type\": \"scattercarpet\"}], \"scattergeo\": [{\"marker\": {\"colorbar\": {\"outlinewidth\": 0, \"ticks\": \"\"}}, \"type\": \"scattergeo\"}], \"scattergl\": [{\"marker\": {\"colorbar\": {\"outlinewidth\": 0, \"ticks\": \"\"}}, \"type\": \"scattergl\"}], \"scattermapbox\": [{\"marker\": {\"colorbar\": {\"outlinewidth\": 0, \"ticks\": \"\"}}, \"type\": \"scattermapbox\"}], \"scatterpolar\": [{\"marker\": {\"colorbar\": {\"outlinewidth\": 0, \"ticks\": \"\"}}, \"type\": \"scatterpolar\"}], \"scatterpolargl\": [{\"marker\": {\"colorbar\": {\"outlinewidth\": 0, \"ticks\": \"\"}}, \"type\": \"scatterpolargl\"}], \"scatterternary\": [{\"marker\": {\"colorbar\": {\"outlinewidth\": 0, \"ticks\": \"\"}}, \"type\": \"scatterternary\"}], \"surface\": [{\"colorbar\": {\"outlinewidth\": 0, \"ticks\": \"\"}, \"colorscale\": [[0.0, \"#0d0887\"], [0.1111111111111111, \"#46039f\"], [0.2222222222222222, \"#7201a8\"], [0.3333333333333333, \"#9c179e\"], [0.4444444444444444, \"#bd3786\"], [0.5555555555555556, \"#d8576b\"], [0.6666666666666666, \"#ed7953\"], [0.7777777777777778, \"#fb9f3a\"], [0.8888888888888888, \"#fdca26\"], [1.0, \"#f0f921\"]], \"type\": \"surface\"}], \"table\": [{\"cells\": {\"fill\": {\"color\": \"#EBF0F8\"}, \"line\": {\"color\": \"white\"}}, \"header\": {\"fill\": {\"color\": \"#C8D4E3\"}, \"line\": {\"color\": \"white\"}}, \"type\": \"table\"}]}, \"layout\": {\"annotationdefaults\": {\"arrowcolor\": \"#2a3f5f\", \"arrowhead\": 0, \"arrowwidth\": 1}, \"coloraxis\": {\"colorbar\": {\"outlinewidth\": 0, \"ticks\": \"\"}}, \"colorscale\": {\"diverging\": [[0, \"#8e0152\"], [0.1, \"#c51b7d\"], [0.2, \"#de77ae\"], [0.3, \"#f1b6da\"], [0.4, \"#fde0ef\"], [0.5, \"#f7f7f7\"], [0.6, \"#e6f5d0\"], [0.7, \"#b8e186\"], [0.8, \"#7fbc41\"], [0.9, \"#4d9221\"], [1, \"#276419\"]], \"sequential\": [[0.0, \"#0d0887\"], [0.1111111111111111, \"#46039f\"], [0.2222222222222222, \"#7201a8\"], [0.3333333333333333, \"#9c179e\"], [0.4444444444444444, \"#bd3786\"], [0.5555555555555556, \"#d8576b\"], [0.6666666666666666, \"#ed7953\"], [0.7777777777777778, \"#fb9f3a\"], [0.8888888888888888, \"#fdca26\"], [1.0, \"#f0f921\"]], \"sequentialminus\": [[0.0, \"#0d0887\"], [0.1111111111111111, \"#46039f\"], [0.2222222222222222, \"#7201a8\"], [0.3333333333333333, \"#9c179e\"], [0.4444444444444444, \"#bd3786\"], [0.5555555555555556, \"#d8576b\"], [0.6666666666666666, \"#ed7953\"], [0.7777777777777778, \"#fb9f3a\"], [0.8888888888888888, \"#fdca26\"], [1.0, \"#f0f921\"]]}, \"colorway\": [\"#636efa\", \"#EF553B\", \"#00cc96\", \"#ab63fa\", \"#FFA15A\", \"#19d3f3\", \"#FF6692\", \"#B6E880\", \"#FF97FF\", \"#FECB52\"], \"font\": {\"color\": \"#2a3f5f\"}, \"geo\": {\"bgcolor\": \"white\", \"lakecolor\": \"white\", \"landcolor\": \"#E5ECF6\", \"showlakes\": true, \"showland\": true, \"subunitcolor\": \"white\"}, \"hoverlabel\": {\"align\": \"left\"}, \"hovermode\": \"closest\", \"mapbox\": {\"style\": \"light\"}, \"paper_bgcolor\": \"white\", \"plot_bgcolor\": \"#E5ECF6\", \"polar\": {\"angularaxis\": {\"gridcolor\": \"white\", \"linecolor\": \"white\", \"ticks\": \"\"}, \"bgcolor\": \"#E5ECF6\", \"radialaxis\": {\"gridcolor\": \"white\", \"linecolor\": \"white\", \"ticks\": \"\"}}, \"scene\": {\"xaxis\": {\"backgroundcolor\": \"#E5ECF6\", \"gridcolor\": \"white\", \"gridwidth\": 2, \"linecolor\": \"white\", \"showbackground\": true, \"ticks\": \"\", \"zerolinecolor\": \"white\"}, \"yaxis\": {\"backgroundcolor\": \"#E5ECF6\", \"gridcolor\": \"white\", \"gridwidth\": 2, \"linecolor\": \"white\", \"showbackground\": true, \"ticks\": \"\", \"zerolinecolor\": \"white\"}, \"zaxis\": {\"backgroundcolor\": \"#E5ECF6\", \"gridcolor\": \"white\", \"gridwidth\": 2, \"linecolor\": \"white\", \"showbackground\": true, \"ticks\": \"\", \"zerolinecolor\": \"white\"}}, \"shapedefaults\": {\"line\": {\"color\": \"#2a3f5f\"}}, \"ternary\": {\"aaxis\": {\"gridcolor\": \"white\", \"linecolor\": \"white\", \"ticks\": \"\"}, \"baxis\": {\"gridcolor\": \"white\", \"linecolor\": \"white\", \"ticks\": \"\"}, \"bgcolor\": \"#E5ECF6\", \"caxis\": {\"gridcolor\": \"white\", \"linecolor\": \"white\", \"ticks\": \"\"}}, \"title\": {\"x\": 0.05}, \"xaxis\": {\"automargin\": true, \"gridcolor\": \"white\", \"linecolor\": \"white\", \"ticks\": \"\", \"title\": {\"standoff\": 15}, \"zerolinecolor\": \"white\", \"zerolinewidth\": 2}, \"yaxis\": {\"automargin\": true, \"gridcolor\": \"white\", \"linecolor\": \"white\", \"ticks\": \"\", \"title\": {\"standoff\": 15}, \"zerolinecolor\": \"white\", \"zerolinewidth\": 2}}}, \"title\": {\"text\": \"Overall PTS vs Elapsed Months, Freshmen Hockey Players\"}, \"xaxis\": {\"anchor\": \"y\", \"domain\": [0.0, 1.0], \"title\": {\"text\": \"Elapsed Months\"}}, \"yaxis\": {\"anchor\": \"x\", \"domain\": [0.0, 1.0], \"title\": {\"text\": \"Overall PTS\"}}},\n",
              "                        {\"responsive\": true}\n",
              "                    ).then(function(){\n",
              "                            \n",
              "var gd = document.getElementById('c3b78f76-522b-4b62-8eae-391200e2d142');\n",
              "var x = new MutationObserver(function (mutations, observer) {{\n",
              "        var display = window.getComputedStyle(gd).display;\n",
              "        if (!display || display === 'none') {{\n",
              "            console.log([gd, 'removed!']);\n",
              "            Plotly.purge(gd);\n",
              "            observer.disconnect();\n",
              "        }}\n",
              "}});\n",
              "\n",
              "// Listen for the removal of the full notebook cells\n",
              "var notebookContainer = gd.closest('#notebook-container');\n",
              "if (notebookContainer) {{\n",
              "    x.observe(notebookContainer, {childList: true});\n",
              "}}\n",
              "\n",
              "// Listen for the clearing of the current output cell\n",
              "var outputEl = gd.closest('.output');\n",
              "if (outputEl) {{\n",
              "    x.observe(outputEl, {childList: true});\n",
              "}}\n",
              "\n",
              "                        })\n",
              "                };\n",
              "                \n",
              "            </script>\n",
              "        </div>\n",
              "</body>\n",
              "</html>"
            ]
          },
          "metadata": {
            "tags": []
          }
        }
      ]
    }
  ]
}